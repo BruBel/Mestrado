{
 "cells": [
  {
   "cell_type": "code",
   "execution_count": 1,
   "id": "7227d5e3",
   "metadata": {},
   "outputs": [],
   "source": [
    "import io\n",
    "import numpy as np\n",
    "import PIL\n",
    "import requests\n",
    "import torch\n",
    "import openpifpaf\n",
    "import cv2\n",
    "import matplotlib.pyplot as plt\n",
    "from matplotlib.pyplot import imshow\n",
    "import os\n",
    "from glob import glob\n",
    "try:\n",
    "    from PIL import Image\n",
    "except ImportError:\n",
    "    import Image\n",
    "from time import time\n",
    "from tqdm import tqdm, tqdm_notebook\n",
    "import json\n",
    "%matplotlib inline"
   ]
  },
  {
   "cell_type": "code",
   "execution_count": 2,
   "id": "93c7f03d",
   "metadata": {},
   "outputs": [],
   "source": [
    "import pandas as pd"
   ]
  },
  {
   "cell_type": "code",
   "execution_count": 3,
   "id": "7bf80348",
   "metadata": {},
   "outputs": [
    {
     "name": "stdout",
     "output_type": "stream",
     "text": [
      "OpenPifPaf version 0.12.14\n",
      "PyTorch version 1.10.0+cpu\n"
     ]
    }
   ],
   "source": [
    "print('OpenPifPaf version', openpifpaf.__version__)\n",
    "print('PyTorch version', torch.__version__)"
   ]
  },
  {
   "cell_type": "code",
   "execution_count": 4,
   "id": "4081da02",
   "metadata": {},
   "outputs": [],
   "source": [
    "videos = glob('datasets/Weizmann/videos/jack/*')"
   ]
  },
  {
   "cell_type": "code",
   "execution_count": 5,
   "id": "2280270a",
   "metadata": {},
   "outputs": [
    {
     "data": {
      "text/plain": [
       "'datasets/Weizmann/videos/jack\\\\daria_jack.avi'"
      ]
     },
     "execution_count": 5,
     "metadata": {},
     "output_type": "execute_result"
    }
   ],
   "source": [
    "videos[0]"
   ]
  },
  {
   "cell_type": "code",
   "execution_count": 4,
   "id": "416f8754",
   "metadata": {},
   "outputs": [
    {
     "data": {
      "text/plain": [
       "'daria_jack'"
      ]
     },
     "execution_count": 4,
     "metadata": {},
     "output_type": "execute_result"
    }
   ],
   "source": [
    "videos[0].split('\\\\')[-1].split('.')[0]"
   ]
  },
  {
   "cell_type": "code",
   "execution_count": 13,
   "id": "a2c58f66",
   "metadata": {},
   "outputs": [
    {
     "data": {
      "text/plain": [
       "False"
      ]
     },
     "execution_count": 13,
     "metadata": {},
     "output_type": "execute_result"
    }
   ],
   "source": [
    "os.path.isdir('datasets/Weizmann/frames/jack/daria_jack')"
   ]
  },
  {
   "cell_type": "code",
   "execution_count": 57,
   "id": "74a3a9da",
   "metadata": {},
   "outputs": [],
   "source": [
    "os.mkdir('datasets/Weizmann/frames/walk/davi')"
   ]
  },
  {
   "cell_type": "code",
   "execution_count": 555,
   "id": "a2b47dc6",
   "metadata": {
    "scrolled": true
   },
   "outputs": [
    {
     "name": "stderr",
     "output_type": "stream",
     "text": [
      "100%|████████████████████████████████████████████████████████████████████████████████████| 9/9 [00:03<00:00,  2.96it/s]\n"
     ]
    }
   ],
   "source": [
    "# actions = ['jump', 'pjump', 'run', 'side', 'skip', 'bend', 'wave1', 'wave2']\n",
    "actions = ['wave2']\n",
    "\n",
    "for action in actions:\n",
    "    videos = glob('datasets/Weizmann/videos/'+action+'/*')\n",
    "\n",
    "    for video in tqdm(videos):\n",
    "        name_of_actor = video.split('\\\\')[-1].split('.')[0]\n",
    "\n",
    "        if not os.path.isdir('datasets/Weizmann/frames/'+action):\n",
    "            os.mkdir('datasets/Weizmann/frames/'+action)\n",
    "\n",
    "        if not os.path.isdir('datasets/Weizmann/frames/'+action+'/'+name_of_actor):\n",
    "            os.mkdir('datasets/Weizmann/frames/'+action+'/'+name_of_actor)\n",
    "\n",
    "        vidcap = cv2.VideoCapture(video)\n",
    "        success,image = vidcap.read()\n",
    "        count = 0\n",
    "        while success:\n",
    "            cv2.imwrite(\"datasets/Weizmann/frames/\"+action+\"/\"+name_of_actor+\"/frame%d.jpg\" % count, image)     # save frame as JPEG file      \n",
    "            success,image = vidcap.read()\n",
    "            count += 1"
   ]
  },
  {
   "cell_type": "code",
   "execution_count": 6,
   "id": "556f76b2",
   "metadata": {},
   "outputs": [],
   "source": [
    "frames_folders = glob('datasets/Weizmann/frames/wave2/*')"
   ]
  },
  {
   "cell_type": "code",
   "execution_count": 7,
   "id": "a276d68c",
   "metadata": {},
   "outputs": [
    {
     "data": {
      "text/plain": [
       "['datasets/Weizmann/frames/wave2\\\\daria_wave2',\n",
       " 'datasets/Weizmann/frames/wave2\\\\denis_wave2',\n",
       " 'datasets/Weizmann/frames/wave2\\\\eli_wave2',\n",
       " 'datasets/Weizmann/frames/wave2\\\\ido_wave2',\n",
       " 'datasets/Weizmann/frames/wave2\\\\ira_wave2',\n",
       " 'datasets/Weizmann/frames/wave2\\\\lena_wave2',\n",
       " 'datasets/Weizmann/frames/wave2\\\\lyova_wave2',\n",
       " 'datasets/Weizmann/frames/wave2\\\\moshe_wave2',\n",
       " 'datasets/Weizmann/frames/wave2\\\\shahar_wave2']"
      ]
     },
     "execution_count": 7,
     "metadata": {},
     "output_type": "execute_result"
    }
   ],
   "source": [
    "frames_folders"
   ]
  },
  {
   "cell_type": "code",
   "execution_count": 8,
   "id": "2eeaeb9c",
   "metadata": {},
   "outputs": [],
   "source": [
    "frames_actual = glob(frames_folders[0]+\"/*.jpg\")"
   ]
  },
  {
   "cell_type": "code",
   "execution_count": 17,
   "id": "8d4f8f8a",
   "metadata": {},
   "outputs": [
    {
     "name": "stderr",
     "output_type": "stream",
     "text": [
      "C:\\Anaconda\\envs\\harbop\\lib\\site-packages\\ipykernel_launcher.py:1: TqdmDeprecationWarning: This function will be removed in tqdm==5.0.0\n",
      "Please use `tqdm.notebook.tqdm` instead of `tqdm.tqdm_notebook`\n",
      "  \"\"\"Entry point for launching an IPython kernel.\n"
     ]
    },
    {
     "data": {
      "application/vnd.jupyter.widget-view+json": {
       "model_id": "8d3d9ff75f34436ab707134d21fe915a",
       "version_major": 2,
       "version_minor": 0
      },
      "text/plain": [
       "  0%|          | 0/9 [00:00<?, ?it/s]"
      ]
     },
     "metadata": {},
     "output_type": "display_data"
    }
   ],
   "source": [
    "for frame_folder in tqdm_notebook(frames_folders):\n",
    "    frames_actual = glob(frame_folder+\"/*.jpg\")\n",
    "    \n",
    "    for frame in frames_actual:\n",
    "        name_of_actor = frame.split('\\\\')[-2]\n",
    "        \n",
    "        if not os.path.isdir('datasets/Weizmann/pifpafheatmaps/wave2'):\n",
    "            os.mkdir('datasets/Weizmann/pifpafheatmaps/wave2')\n",
    "        \n",
    "        if not os.path.isdir('datasets/Weizmann/pifpafheatmaps/wave2/'+name_of_actor):\n",
    "            os.mkdir('datasets/Weizmann/pifpafheatmaps/wave2/'+name_of_actor)\n",
    "        \n",
    "        if not os.path.isdir('datasets/Weizmann/pifpafheatmaps/wave2/'+name_of_actor+'/'+frame.split('\\\\')[-1].split('.')[0]):\n",
    "            os.mkdir('datasets/Weizmann/pifpafheatmaps/wave2/'+name_of_actor+'/'+frame.split('\\\\')[-1].split('.')[0])\n",
    "            \n",
    "        os.system(\n",
    "            \"python -m openpifpaf.predict \"+frame.replace('\\\\', '/')+\" -q --image-output --debug-indices cif:0,1,2,3,4,5,6,7,8,9,10,11,12,13,14,15,16 --save-all=datasets/Weizmann/pifpafheatmaps/wave2/\"+name_of_actor+\"/\"+frame.split('\\\\')[-1].split('.')[0])"
   ]
  },
  {
   "cell_type": "code",
   "execution_count": 89,
   "id": "8d1c5700",
   "metadata": {},
   "outputs": [
    {
     "data": {
      "text/plain": [
       "0"
      ]
     },
     "execution_count": 89,
     "metadata": {},
     "output_type": "execute_result"
    }
   ],
   "source": [
    "os.system(\n",
    "            \"python -m openpifpaf.predict datasets/Weizmann/pifpafheatmaps/walk/daria_walk/frame0.jpg.predictions.jpeg -q --debug-indices cif:0,1,2,3,4,5,6,7,8,9,10,11,12,13,14,15,16 --save-all=datasets/Weizmann/pifpafheatmaps/walk/\"+name_of_actor)"
   ]
  },
  {
   "cell_type": "code",
   "execution_count": 465,
   "id": "9d3badf6",
   "metadata": {},
   "outputs": [],
   "source": [
    "pil_im = PIL.Image.open(\"datasets/Weizmann/frames/wave2/daria_wave2/frame2.jpg\").convert('RGB')\n",
    "im = np.asarray(pil_im)"
   ]
  },
  {
   "cell_type": "code",
   "execution_count": 466,
   "id": "aa150b58",
   "metadata": {},
   "outputs": [],
   "source": [
    "predictor = openpifpaf.Predictor(checkpoint='shufflenetv2k16')\n",
    "predictions, gt_anns, image_meta = predictor.pil_image(pil_im)"
   ]
  },
  {
   "cell_type": "code",
   "execution_count": 467,
   "id": "b0274d37",
   "metadata": {},
   "outputs": [
    {
     "data": {
      "text/plain": [
       "array([[ 55.26448   ,  57.361076  ,   0.5292886 ],\n",
       "       [ 56.122913  ,  56.136642  ,   0.5642391 ],\n",
       "       [ 54.33905   ,  56.21957   ,   0.45369384],\n",
       "       [ 57.862907  ,  56.669937  ,   0.52911466],\n",
       "       [ 52.918163  ,  56.909115  ,   0.45812553],\n",
       "       [ 60.33988   ,  61.869736  ,   0.7900785 ],\n",
       "       [ 51.33407   ,  62.35469   ,   0.7826369 ],\n",
       "       [ 66.58074   ,  55.598175  ,   0.63352966],\n",
       "       [ 45.442654  ,  57.97446   ,   0.62512916],\n",
       "       [ 67.04378   ,  48.961487  ,   0.56025183],\n",
       "       [ 43.61461   ,  51.079502  ,   0.49001336],\n",
       "       [ 59.138855  ,  79.23557   ,   0.87992495],\n",
       "       [ 53.576714  ,  79.28958   ,   0.8061539 ],\n",
       "       [ 59.25      ,  95.16648   ,   0.8153392 ],\n",
       "       [ 55.661594  ,  94.89848   ,   0.77125716],\n",
       "       [ 59.92888   , 109.05706   ,   0.7682495 ],\n",
       "       [ 57.074055  , 109.06134   ,   0.7292752 ]], dtype=float32)"
      ]
     },
     "execution_count": 467,
     "metadata": {},
     "output_type": "execute_result"
    }
   ],
   "source": [
    "predictions[0].data"
   ]
  },
  {
   "cell_type": "code",
   "execution_count": 31,
   "id": "33b2e388",
   "metadata": {},
   "outputs": [
    {
     "data": {
      "text/plain": [
       "0"
      ]
     },
     "execution_count": 31,
     "metadata": {},
     "output_type": "execute_result"
    }
   ],
   "source": [
    "os.system(\n",
    "            \"python -m openpifpaf.predict datasets/Weizmann/frames/bend/daria_bend/frame25.jpg --json-output\")"
   ]
  },
  {
   "cell_type": "code",
   "execution_count": 576,
   "id": "3150b2ba",
   "metadata": {},
   "outputs": [],
   "source": [
    "f = open('datasets/Weizmann/frames/bend/daria_bend/frame0.jpg.predictions.json')"
   ]
  },
  {
   "cell_type": "code",
   "execution_count": 577,
   "id": "a3cd1c0c",
   "metadata": {},
   "outputs": [],
   "source": [
    "data = json.load(f)"
   ]
  },
  {
   "cell_type": "code",
   "execution_count": 578,
   "id": "57a5d819",
   "metadata": {},
   "outputs": [],
   "source": [
    "x,y,w,h = data[0]['bbox']"
   ]
  },
  {
   "cell_type": "code",
   "execution_count": 579,
   "id": "e169fcd4",
   "metadata": {},
   "outputs": [
    {
     "name": "stdout",
     "output_type": "stream",
     "text": [
      "52.8\n",
      "56.15\n",
      "11.34\n",
      "54.65\n"
     ]
    }
   ],
   "source": [
    "print(x)\n",
    "print(y)\n",
    "print(w)\n",
    "print(h)"
   ]
  },
  {
   "cell_type": "code",
   "execution_count": 18,
   "id": "bef98071",
   "metadata": {},
   "outputs": [],
   "source": [
    "x = x*2\n",
    "y = y*2\n",
    "w = w*2\n",
    "h = h*2"
   ]
  },
  {
   "cell_type": "code",
   "execution_count": 580,
   "id": "5561daff",
   "metadata": {},
   "outputs": [],
   "source": [
    "center = (int((x+w/2)), int((y+h/2)))"
   ]
  },
  {
   "cell_type": "code",
   "execution_count": 581,
   "id": "d0a3bc2d",
   "metadata": {},
   "outputs": [
    {
     "data": {
      "text/plain": [
       "(58, 83)"
      ]
     },
     "execution_count": 581,
     "metadata": {},
     "output_type": "execute_result"
    }
   ],
   "source": [
    "center"
   ]
  },
  {
   "cell_type": "code",
   "execution_count": 39,
   "id": "7670b8af",
   "metadata": {},
   "outputs": [],
   "source": [
    "# img = cv2.imread(\"datasets/Weizmann/frames/bend/daria_bend/frame0.jpg.predictions.jpeg\")"
   ]
  },
  {
   "cell_type": "code",
   "execution_count": 584,
   "id": "7fd6d8c3",
   "metadata": {},
   "outputs": [],
   "source": [
    "img = cv2.imread(\"datasets/Weizmann/frames/bend/daria_bend/frame0.jpg\")\n"
   ]
  },
  {
   "cell_type": "code",
   "execution_count": 586,
   "id": "2572c810",
   "metadata": {},
   "outputs": [],
   "source": [
    "# cropped_image = img[int(y*2):int(y*2)+int(h*2), int(x*2):int(x*2)+int(w*2)]\n",
    "cropped_image = img[center[1]-40:center[1]+40, center[0]-40:center[0]+40]"
   ]
  },
  {
   "cell_type": "code",
   "execution_count": 587,
   "id": "bff57835",
   "metadata": {},
   "outputs": [
    {
     "data": {
      "text/plain": [
       "True"
      ]
     },
     "execution_count": 587,
     "metadata": {},
     "output_type": "execute_result"
    }
   ],
   "source": [
    "cv2.imwrite('contour1.png', cropped_image)"
   ]
  },
  {
   "cell_type": "code",
   "execution_count": 588,
   "id": "314a9226",
   "metadata": {},
   "outputs": [],
   "source": [
    "im = Image.open('contour1.png')"
   ]
  },
  {
   "cell_type": "code",
   "execution_count": 589,
   "id": "c514b3f0",
   "metadata": {},
   "outputs": [
    {
     "data": {
      "image/png": "[encoded data removed]",
      "text/plain": [
       "<PIL.PngImagePlugin.PngImageFile image mode=RGB size=80x80 at 0x1643D881148>"
      ]
     },
     "execution_count": 589,
     "metadata": {},
     "output_type": "execute_result"
    }
   ],
   "source": [
    "im"
   ]
  },
  {
   "cell_type": "markdown",
   "id": "86ef258a",
   "metadata": {},
   "source": [
    "### Gerando a média para os heatmaps"
   ]
  },
  {
   "cell_type": "code",
   "execution_count": 561,
   "id": "b9ee2dfb",
   "metadata": {},
   "outputs": [],
   "source": [
    "imgs = glob(\"datasets/Weizmann/frames/bend/daria_bend/*.jpg\")"
   ]
  },
  {
   "cell_type": "code",
   "execution_count": 562,
   "id": "55447bac",
   "metadata": {},
   "outputs": [
    {
     "data": {
      "text/plain": [
       "'datasets/Weizmann/frames/bend/daria_bend\\\\frame0.jpg'"
      ]
     },
     "execution_count": 562,
     "metadata": {},
     "output_type": "execute_result"
    }
   ],
   "source": [
    "imgs[0]"
   ]
  },
  {
   "cell_type": "code",
   "execution_count": 565,
   "id": "078ee76a",
   "metadata": {},
   "outputs": [],
   "source": [
    "f = open('datasets/Weizmann/frames/bend/daria_bend/frame0.jpg.predictions.json')\n",
    "        \n",
    "data = json.load(f)\n",
    "\n",
    "x,y,w,h = data[0]['bbox']\n",
    "\n",
    "center = (int((x+w/2)), int((y+h/2)))"
   ]
  },
  {
   "cell_type": "code",
   "execution_count": 566,
   "id": "dcb8bd8a",
   "metadata": {},
   "outputs": [
    {
     "data": {
      "text/plain": [
       "(58, 83)"
      ]
     },
     "execution_count": 566,
     "metadata": {},
     "output_type": "execute_result"
    }
   ],
   "source": [
    "center"
   ]
  },
  {
   "cell_type": "code",
   "execution_count": 459,
   "id": "649cd96a",
   "metadata": {},
   "outputs": [],
   "source": [
    "imgs = imgs[34:]"
   ]
  },
  {
   "cell_type": "code",
   "execution_count": 567,
   "id": "91df91f3",
   "metadata": {},
   "outputs": [
    {
     "data": {
      "text/plain": [
       "'datasets/Weizmann/frames/bend/daria_bend\\\\frame0.jpg'"
      ]
     },
     "execution_count": 567,
     "metadata": {},
     "output_type": "execute_result"
    }
   ],
   "source": [
    "imgs[0]"
   ]
  },
  {
   "cell_type": "code",
   "execution_count": 568,
   "id": "e4801290",
   "metadata": {},
   "outputs": [],
   "source": [
    "tmp_img = cv2.imread(imgs[0])\n",
    "cropped_image = tmp_img[center[1]-80:center[1]+80, center[0]-80:center[0]+80]"
   ]
  },
  {
   "cell_type": "code",
   "execution_count": 591,
   "id": "81992f4a",
   "metadata": {},
   "outputs": [],
   "source": [
    "w,h=tmp_img.shape[1], tmp_img.shape[0]"
   ]
  },
  {
   "cell_type": "code",
   "execution_count": 570,
   "id": "0a80f17f",
   "metadata": {},
   "outputs": [],
   "source": [
    "images = glob('datasets/Weizmann/frames/bend/daria_bend/*.jpg')"
   ]
  },
  {
   "cell_type": "code",
   "execution_count": 571,
   "id": "c9e22915",
   "metadata": {},
   "outputs": [
    {
     "data": {
      "text/plain": [
       "'frame0.jpg'"
      ]
     },
     "execution_count": 571,
     "metadata": {},
     "output_type": "execute_result"
    }
   ],
   "source": [
    "images[0].replace('\\\\', '/').split('/')[-1]"
   ]
  },
  {
   "cell_type": "code",
   "execution_count": 601,
   "id": "212cd25e",
   "metadata": {},
   "outputs": [
    {
     "data": {
      "text/plain": [
       "(132, 153)"
      ]
     },
     "execution_count": 601,
     "metadata": {},
     "output_type": "execute_result"
    }
   ],
   "source": [
    "center"
   ]
  },
  {
   "cell_type": "code",
   "execution_count": 593,
   "id": "d82ce2d5",
   "metadata": {},
   "outputs": [
    {
     "name": "stderr",
     "output_type": "stream",
     "text": [
      "C:\\Anaconda\\envs\\harbop\\lib\\site-packages\\ipykernel_launcher.py:2: TqdmDeprecationWarning: This function will be removed in tqdm==5.0.0\n",
      "Please use `tqdm.notebook.tqdm` instead of `tqdm.tqdm_notebook`\n",
      "  \n"
     ]
    },
    {
     "data": {
      "application/vnd.jupyter.widget-view+json": {
       "model_id": "0ae3618e456b4c859788939c0762fb74",
       "version_major": 2,
       "version_minor": 0
      },
      "text/plain": [
       "  0%|          | 0/84 [00:00<?, ?it/s]"
      ]
     },
     "metadata": {},
     "output_type": "display_data"
    }
   ],
   "source": [
    "images = glob('datasets/Weizmann/frames/bend/daria_bend/*.jpg')\n",
    "for image in tqdm_notebook(images):\n",
    "\n",
    "    pil_im = PIL.Image.open(image.replace('\\\\', '/')).convert('RGB')\n",
    "    im = np.asarray(pil_im)\n",
    "\n",
    "\n",
    "    predictor = openpifpaf.Predictor(checkpoint='shufflenetv2k16')\n",
    "    predictions, gt_anns, image_meta = predictor.pil_image(pil_im)\n",
    "\n",
    "    map_colors = {0: np.array([161, 141, 39]),\n",
    "                  5: np.array([193, 10, 80]),\n",
    "                  6: np.array([239, 246, 80]),\n",
    "                  7: np.array([146, 189, 180]),\n",
    "                  8: np.array([234, 213, 170]),\n",
    "                  9: np.array([36, 145, 42]),\n",
    "                  10: np.array([197, 216, 26]),\n",
    "                  11: np.array([218, 70, 117]),\n",
    "                  12: np.array([254, 148, 232]),\n",
    "                  13: np.array([255, 255, 255]),\n",
    "                  14: np.array([255, 0, 0]),\n",
    "                  15: np.array([0, 255, 0]),\n",
    "                  16: np.array([0, 0, 255]),\n",
    "                  }\n",
    "\n",
    "    contour_image = np.zeros((h,w,3),np.float)\n",
    "\n",
    "    for i in np.arange(0,17):\n",
    "        if (predictions[0].data[i][2] != 0) and (i not in [1,2,3,4]):\n",
    "            x = predictions[0].data[i][0]\n",
    "            y = predictions[0].data[i][1]\n",
    "\n",
    "            x = (int(x))+3\n",
    "            y = (int(y))-3\n",
    "\n",
    "            contour_image[int(y)-2:int(y)+2, int(x)-2:int(x)+2] = map_colors[i][::-1]\n",
    "            cropped_image = contour_image[center[1]-40:center[1]+40, center[0]-40:center[0]+40]\n",
    "    \n",
    "    cv2.imwrite('datasets/Weizmann/heatmapsfeatures/bend/daria_bend/'+image.replace('\\\\', '/').split('/')[-1], cropped_image)"
   ]
  },
  {
   "cell_type": "code",
   "execution_count": 493,
   "id": "09eab202",
   "metadata": {},
   "outputs": [],
   "source": [
    "x = predictions[0].data[16][0]\n",
    "y = predictions[0].data[16][1]"
   ]
  },
  {
   "cell_type": "code",
   "execution_count": 494,
   "id": "ce9909a6",
   "metadata": {},
   "outputs": [
    {
     "name": "stdout",
     "output_type": "stream",
     "text": [
      "57.074055\n",
      "109.06134\n"
     ]
    }
   ],
   "source": [
    "print(x)\n",
    "print(y)"
   ]
  },
  {
   "cell_type": "code",
   "execution_count": 495,
   "id": "b7d99298",
   "metadata": {},
   "outputs": [],
   "source": [
    "x = (int(x*2))+3\n",
    "y = (int(y*2))-3"
   ]
  },
  {
   "cell_type": "code",
   "execution_count": 496,
   "id": "1964ac2b",
   "metadata": {},
   "outputs": [
    {
     "name": "stdout",
     "output_type": "stream",
     "text": [
      "117\n",
      "215\n"
     ]
    }
   ],
   "source": [
    "print(x)\n",
    "print(y)"
   ]
  },
  {
   "cell_type": "code",
   "execution_count": 473,
   "id": "62b2f5c0",
   "metadata": {},
   "outputs": [],
   "source": [
    "contour_image[int(y)-3:int(y)+3, int(x)-3:int(x)+3] = np.array([0,255,0])"
   ]
  },
  {
   "cell_type": "code",
   "execution_count": 413,
   "id": "99e96ea5",
   "metadata": {},
   "outputs": [],
   "source": [
    "cropped_image = contour_image[center[1]-80-30:center[1]+60, center[0]-80:center[0]+80+10]"
   ]
  },
  {
   "cell_type": "code",
   "execution_count": 545,
   "id": "e14e6fe1",
   "metadata": {},
   "outputs": [
    {
     "data": {
      "text/plain": [
       "True"
      ]
     },
     "execution_count": 545,
     "metadata": {},
     "output_type": "execute_result"
    }
   ],
   "source": [
    "cv2.imwrite('contour2.png', cropped_image)"
   ]
  },
  {
   "cell_type": "code",
   "execution_count": 546,
   "id": "a262b801",
   "metadata": {},
   "outputs": [],
   "source": [
    "im = Image.open('contour2.png')"
   ]
  },
  {
   "cell_type": "code",
   "execution_count": 547,
   "id": "1bb75d0f",
   "metadata": {},
   "outputs": [
    {
     "data": {
      "image/png": "[encoded data removed]",
      "text/plain": [
       "<PIL.PngImagePlugin.PngImageFile image mode=RGB size=170x170 at 0x1643D7ADBC8>"
      ]
     },
     "execution_count": 547,
     "metadata": {},
     "output_type": "execute_result"
    }
   ],
   "source": [
    "im"
   ]
  },
  {
   "cell_type": "code",
   "execution_count": 597,
   "id": "b97c00f7",
   "metadata": {},
   "outputs": [],
   "source": [
    "frames_folders = glob('datasets/Weizmann/frames/bend/*')"
   ]
  },
  {
   "cell_type": "code",
   "execution_count": 611,
   "id": "bb2132a5",
   "metadata": {},
   "outputs": [
    {
     "name": "stderr",
     "output_type": "stream",
     "text": [
      "C:\\Anaconda\\envs\\harbop\\lib\\site-packages\\ipykernel_launcher.py:5: TqdmDeprecationWarning: This function will be removed in tqdm==5.0.0\n",
      "Please use `tqdm.notebook.tqdm` instead of `tqdm.tqdm_notebook`\n",
      "  \"\"\"\n"
     ]
    },
    {
     "data": {
      "application/vnd.jupyter.widget-view+json": {
       "model_id": "77206a46b440461fbb27fad0fe1d15ad",
       "version_major": 2,
       "version_minor": 0
      },
      "text/plain": [
       "  0%|          | 0/10 [00:00<?, ?it/s]"
      ]
     },
     "metadata": {},
     "output_type": "display_data"
    }
   ],
   "source": [
    "actions = ['walk']\n",
    "# actions = ['jack', 'bend', 'jump', 'pjump', 'run', 'side', 'skip', 'bend', 'wave1', 'wave2']\n",
    "for action in actions:\n",
    "    frames_folders = glob('datasets/Weizmann/frames/'+action+'/*')\n",
    "    for frame_folder in tqdm_notebook(frames_folders):\n",
    "        frames_actual = glob(frame_folder+\"/*.jpg\")\n",
    "\n",
    "        for frame in frames_actual[2:]:\n",
    "            name_of_actor = frame.split('\\\\')[-2]\n",
    "\n",
    "\n",
    "            tmp_img = cv2.imread(frame)\n",
    "\n",
    "            if not os.path.isdir('datasets/Weizmann/heatmapsfeatures/'+action):\n",
    "                os.mkdir('datasets/Weizmann/heatmapsfeatures/'+action)\n",
    "\n",
    "            if not os.path.isdir('datasets/Weizmann/heatmapsfeatures/'+action+'/'+name_of_actor):\n",
    "                os.mkdir('datasets/Weizmann/heatmapsfeatures/'+action+'/'+name_of_actor)\n",
    "\n",
    "            f = open('datasets/Weizmann/frames/'+action+'/'+name_of_actor+'/'+frame.replace('\\\\', '/').split('/')[-1]+'.predictions.json')\n",
    "\n",
    "            data = json.load(f)\n",
    "\n",
    "            x,y,w,h = data[0]['bbox']\n",
    "\n",
    "            center = (int((x+w/2)), int((y+h/2)))\n",
    "\n",
    "            w,h=tmp_img.shape[1], tmp_img.shape[0]\n",
    "\n",
    "            pil_im = PIL.Image.open(frame.replace('\\\\', '/')).convert('RGB')\n",
    "            im = np.asarray(pil_im)\n",
    "\n",
    "            predictor = openpifpaf.Predictor(checkpoint='shufflenetv2k16')\n",
    "            predictions, gt_anns, image_meta = predictor.pil_image(pil_im)\n",
    "\n",
    "            map_colors = {0: np.array([161, 141, 39]),\n",
    "                          5: np.array([193, 10, 80]),\n",
    "                          6: np.array([239, 246, 80]),\n",
    "                          7: np.array([146, 189, 180]),\n",
    "                          8: np.array([234, 213, 170]),\n",
    "                          9: np.array([36, 145, 42]),\n",
    "                          10: np.array([197, 216, 26]),\n",
    "                          11: np.array([218, 70, 117]),\n",
    "                          12: np.array([254, 148, 232]),\n",
    "                          13: np.array([255, 255, 255]),\n",
    "                          14: np.array([255, 0, 0]),\n",
    "                          15: np.array([0, 255, 0]),\n",
    "                          16: np.array([0, 0, 255]),\n",
    "                          }\n",
    "\n",
    "            contour_image = np.zeros((h,w,3),np.float)\n",
    "\n",
    "            window_x_negative, window_x_positive, window_y_negative, window_y_positive = 50, 50, 50, 50\n",
    "            if center[0]-window_x_negative < 0:\n",
    "                window_x_negative = center[0]\n",
    "                window_x_positive = 50+(50-center[0])\n",
    "            if center[1]-window_y_negative < 0:\n",
    "                window_y_negative = center[1]\n",
    "                window_y_positive = 50+(50-center[1])\n",
    "\n",
    "            if center[0]+window_x_positive > img.shape[1]:\n",
    "                window_x_negative = 50+(50-(img.shape[1]-center[0]))\n",
    "                window_x_positive = (img.shape[1]-center[0])\n",
    "            if center[1]+window_y_positive > img.shape[0]:\n",
    "                window_y_negative = 50+(50-(img.shape[0]-center[1]))\n",
    "                window_y_positive = (img.shape[0]-center[1])\n",
    "\n",
    "            for i in np.arange(0,17):\n",
    "                if (predictions[0].data[i][2] != 0) and (i not in [1,2,3,4]):\n",
    "                    x = predictions[0].data[i][0]\n",
    "                    y = predictions[0].data[i][1]\n",
    "\n",
    "                    x = (int(x))+3\n",
    "                    y = (int(y))-3\n",
    "\n",
    "                    contour_image[int(y)-2:int(y)+2, int(x)-2:int(x)+2] = map_colors[i][::-1]\n",
    "                    cropped_image = contour_image[center[1]-window_y_negative:center[1]+window_y_positive, center[0]-window_x_negative:center[0]+window_x_positive]\n",
    "\n",
    "            cv2.imwrite(\"datasets/Weizmann/heatmapsfeatures/\"+action+\"/\"+name_of_actor+\"/\"+frame.replace('\\\\', '/').split('/')[-1], cropped_image)\n",
    "        "
   ]
  },
  {
   "cell_type": "code",
   "execution_count": null,
   "id": "2addb716",
   "metadata": {},
   "outputs": [],
   "source": [
    "tmp_img = cv2.imread(imgs[0])\n",
    "cropped_image = tmp_img[center[1]-80-25:center[1]+60, center[0]-80:center[0]+80+10]\n",
    "arr = np.array(cropped_image)\n",
    "\n",
    "for img in imgs[1:]:\n",
    "    tmp_img = cv2.imread(img)\n",
    "    cropped_image = tmp_img[center[1]-80-25:center[1]+60, center[0]-80:center[0]+80+10]\n",
    "    w,h=Image.open(images[0]).size\n",
    "\n",
    "            imarr=np.array(Image.open(im),dtype=np.float)\n",
    "            arr=arr+imarr/N"
   ]
  },
  {
   "cell_type": "code",
   "execution_count": 141,
   "id": "a3bd4dd1",
   "metadata": {},
   "outputs": [
    {
     "name": "stdout",
     "output_type": "stream",
     "text": [
      "170\n",
      "170\n"
     ]
    }
   ],
   "source": [
    "imgs = glob(\"datasets/Weizmann/pifpafheatmaps/bend/daria_bend/frame0/*.jpeg\")\n",
    "imgs = imgs[34:]\n",
    "\n",
    "tmp_img = cv2.imread(imgs[0])\n",
    "cropped_image = tmp_img[center[1]-80-30:center[1]+60, center[0]-80:center[0]+80+10]\n",
    "\n",
    "w,h=cropped_image.shape[0], cropped_image.shape[1]\n",
    "N=len(imgs)\n",
    "print(w)\n",
    "print(h)\n",
    "\n",
    "# Create a numpy array of floats to store the average (assume RGB images)\n",
    "arr=np.zeros((h,w,3),np.float)\n",
    "\n",
    "# Build up average pixel intensities, casting each image as an array of floats\n",
    "for im in imgs:\n",
    "    imarr=np.array(Image.open(im),dtype=np.float)\n",
    "    cropped_image = imarr[center[1]-80-30:center[1]+60, center[0]-80:center[0]+80+10]\n",
    "    arr=arr+cropped_image/N\n",
    "\n",
    "# Round values in array and cast as 8-bit integer\n",
    "arr=np.array(np.round(arr),dtype=np.uint8)\n",
    "out=Image.fromarray(arr,mode=\"RGB\")\n",
    "out.save(\"Average.png\")"
   ]
  },
  {
   "cell_type": "code",
   "execution_count": 53,
   "id": "02d3998e",
   "metadata": {},
   "outputs": [],
   "source": [
    "f = open('datasets/Weizmann/frames/jump/daria_jump/frame60.jpg.predictions.json')\n",
    "        \n",
    "data = json.load(f)\n",
    "\n",
    "x,y,w,h = data[0]['bbox']\n",
    "\n",
    "x = x*2\n",
    "y = y*2\n",
    "w = w*2\n",
    "h = h*2\n",
    "\n",
    "center = (int((x+w/2)), int((y+h/2)))"
   ]
  },
  {
   "cell_type": "code",
   "execution_count": 54,
   "id": "535d3c7d",
   "metadata": {},
   "outputs": [
    {
     "data": {
      "text/plain": [
       "(298, 160)"
      ]
     },
     "execution_count": 54,
     "metadata": {},
     "output_type": "execute_result"
    }
   ],
   "source": [
    "center"
   ]
  },
  {
   "cell_type": "code",
   "execution_count": 56,
   "id": "f673a131",
   "metadata": {},
   "outputs": [],
   "source": [
    "img = cv2.imread(\"datasets/Weizmann/frames/jump/daria_jump/frame60.jpg.predictions.jpeg\")"
   ]
  },
  {
   "cell_type": "code",
   "execution_count": 57,
   "id": "82247bb3",
   "metadata": {},
   "outputs": [
    {
     "data": {
      "text/plain": [
       "(288, 360, 3)"
      ]
     },
     "execution_count": 57,
     "metadata": {},
     "output_type": "execute_result"
    }
   ],
   "source": [
    "img.shape"
   ]
  },
  {
   "cell_type": "code",
   "execution_count": 59,
   "id": "bf50863b",
   "metadata": {},
   "outputs": [],
   "source": [
    "window_x_negative, window_x_positive, window_y_negative, window_y_positive = 80, 80, 80, 80"
   ]
  },
  {
   "cell_type": "code",
   "execution_count": 60,
   "id": "c9e08d45",
   "metadata": {},
   "outputs": [],
   "source": [
    "if center[0]-window_x_negative < 0:\n",
    "    window_x_negative = center[0]\n",
    "    window_x_positive = 80+(80-center[0])\n",
    "if center[1]-window_y_negative < 0:\n",
    "    window_y_negative = center[1]\n",
    "    window_y_positive = 80+(80-center[1])\n",
    "\n",
    "if center[0]+window_x_positive > img.shape[1]:\n",
    "    window_x_negative = 80+(80-(img.shape[1]-center[0]))\n",
    "    window_x_positive = (img.shape[1]-center[0])\n",
    "if center[1]+window_y_positive > img.shape[0]:\n",
    "    window_y_negative = 80+(80-(img.shape[0]-center[1]))\n",
    "    window_y_positive = (img.shape[0]-center[1])"
   ]
  },
  {
   "cell_type": "code",
   "execution_count": 73,
   "id": "87ca36d4",
   "metadata": {},
   "outputs": [
    {
     "data": {
      "text/plain": [
       "83"
      ]
     },
     "execution_count": 73,
     "metadata": {},
     "output_type": "execute_result"
    }
   ],
   "source": [
    "center[1]-window_y_negative"
   ]
  },
  {
   "cell_type": "code",
   "execution_count": 74,
   "id": "70da6685",
   "metadata": {},
   "outputs": [
    {
     "data": {
      "text/plain": [
       "243"
      ]
     },
     "execution_count": 74,
     "metadata": {},
     "output_type": "execute_result"
    }
   ],
   "source": [
    "center[1]+window_y_positive"
   ]
  },
  {
   "cell_type": "code",
   "execution_count": 75,
   "id": "edf32304",
   "metadata": {},
   "outputs": [
    {
     "data": {
      "text/plain": [
       "0"
      ]
     },
     "execution_count": 75,
     "metadata": {},
     "output_type": "execute_result"
    }
   ],
   "source": [
    "center[0]-window_x_negative"
   ]
  },
  {
   "cell_type": "code",
   "execution_count": 76,
   "id": "434faae5",
   "metadata": {},
   "outputs": [
    {
     "data": {
      "text/plain": [
       "160"
      ]
     },
     "execution_count": 76,
     "metadata": {},
     "output_type": "execute_result"
    }
   ],
   "source": [
    "center[0]+window_x_positive"
   ]
  },
  {
   "cell_type": "code",
   "execution_count": 67,
   "id": "10a06c0c",
   "metadata": {},
   "outputs": [],
   "source": [
    "cropped_image = img[center[1]-window_y_negative:center[1]+window_y_positive, center[0]-window_x_negative:center[0]+window_x_positive]"
   ]
  },
  {
   "cell_type": "code",
   "execution_count": 68,
   "id": "1287a4a0",
   "metadata": {},
   "outputs": [
    {
     "data": {
      "text/plain": [
       "array([[[149, 144, 153],\n",
       "        [148, 143, 152],\n",
       "        [149, 142, 149],\n",
       "        ...,\n",
       "        [153, 146, 153],\n",
       "        [154, 147, 154],\n",
       "        [155, 148, 155]],\n",
       "\n",
       "       [[149, 144, 153],\n",
       "        [149, 144, 153],\n",
       "        [151, 144, 151],\n",
       "        ...,\n",
       "        [155, 147, 154],\n",
       "        [155, 148, 155],\n",
       "        [157, 150, 157]],\n",
       "\n",
       "       [[147, 142, 151],\n",
       "        [148, 143, 152],\n",
       "        [150, 143, 150],\n",
       "        ...,\n",
       "        [155, 147, 154],\n",
       "        [156, 149, 156],\n",
       "        [157, 150, 157]],\n",
       "\n",
       "       ...,\n",
       "\n",
       "       [[151, 138, 136],\n",
       "        [149, 137, 135],\n",
       "        [150, 137, 135],\n",
       "        ...,\n",
       "        [154, 137, 140],\n",
       "        [152, 135, 138],\n",
       "        [151, 134, 137]],\n",
       "\n",
       "       [[162, 147, 144],\n",
       "        [160, 145, 142],\n",
       "        [160, 145, 142],\n",
       "        ...,\n",
       "        [150, 129, 131],\n",
       "        [148, 127, 129],\n",
       "        [146, 125, 127]],\n",
       "\n",
       "       [[141, 125, 119],\n",
       "        [140, 124, 118],\n",
       "        [140, 124, 118],\n",
       "        ...,\n",
       "        [111,  90,  92],\n",
       "        [109,  88,  90],\n",
       "        [106,  85,  87]]], dtype=uint8)"
      ]
     },
     "execution_count": 68,
     "metadata": {},
     "output_type": "execute_result"
    }
   ],
   "source": [
    "cropped_image"
   ]
  },
  {
   "cell_type": "code",
   "execution_count": 51,
   "id": "a09c565b",
   "metadata": {},
   "outputs": [],
   "source": [
    "frames_actual = glob(frames_folders[0]+\"/*.jpg\")"
   ]
  },
  {
   "cell_type": "code",
   "execution_count": 90,
   "id": "2831d191",
   "metadata": {},
   "outputs": [],
   "source": [
    "frames_folders = glob('datasets/Weizmann/frames/walk/*')"
   ]
  },
  {
   "cell_type": "code",
   "execution_count": 91,
   "id": "8bcfaadb",
   "metadata": {},
   "outputs": [
    {
     "data": {
      "text/plain": [
       "'datasets/Weizmann/frames/walk\\\\daria_walk'"
      ]
     },
     "execution_count": 91,
     "metadata": {},
     "output_type": "execute_result"
    }
   ],
   "source": [
    "frames_folders[0]"
   ]
  },
  {
   "cell_type": "code",
   "execution_count": 92,
   "id": "b2e0d85f",
   "metadata": {},
   "outputs": [
    {
     "name": "stderr",
     "output_type": "stream",
     "text": [
      "C:\\Anaconda\\envs\\harbop\\lib\\site-packages\\ipykernel_launcher.py:1: TqdmDeprecationWarning: This function will be removed in tqdm==5.0.0\n",
      "Please use `tqdm.notebook.tqdm` instead of `tqdm.tqdm_notebook`\n",
      "  \"\"\"Entry point for launching an IPython kernel.\n"
     ]
    },
    {
     "data": {
      "application/vnd.jupyter.widget-view+json": {
       "model_id": "7241cba93f3e4f2082fdc866b446aae0",
       "version_major": 2,
       "version_minor": 0
      },
      "text/plain": [
       "  0%|          | 0/10 [00:00<?, ?it/s]"
      ]
     },
     "metadata": {},
     "output_type": "display_data"
    }
   ],
   "source": [
    "for frame_folder in tqdm_notebook(frames_folders):\n",
    "    frames_actual = glob(frame_folder+\"/*.jpg\")\n",
    "    \n",
    "    for frame in frames_actual:\n",
    "        name_of_actor = frame.split('\\\\')[-2]\n",
    "        \n",
    "        if not os.path.isdir('datasets/Weizmann/skeletons_croppeds/walk'):\n",
    "            os.mkdir('datasets/Weizmann/skeletons_croppeds/walk')\n",
    "        \n",
    "        if not os.path.isdir('datasets/Weizmann/skeletons_croppeds/walk/'+name_of_actor):\n",
    "            os.mkdir('datasets/Weizmann/skeletons_croppeds/walk/'+name_of_actor)\n",
    "        \n",
    "        os.system(\n",
    "            \"python -m openpifpaf.predict \"+frame.replace('\\\\', '/')+\" --json-output\")\n",
    "        \n",
    "        f = open('datasets/Weizmann/frames/walk/'+name_of_actor+'/'+frame.replace('\\\\', '/').split('/')[-1]+'.predictions.json')\n",
    "        \n",
    "        data = json.load(f)\n",
    "        \n",
    "        x,y,w,h = data[0]['bbox']\n",
    "        \n",
    "        x = x*2\n",
    "        y = y*2\n",
    "        w = w*2\n",
    "        h = h*2\n",
    "        \n",
    "        center = (int((x+w/2)), int((y+h/2)))\n",
    "        \n",
    "        img = cv2.imread(\"datasets/Weizmann/frames/walk/\"+name_of_actor+\"/\"+frame.replace('\\\\', '/').split('/')[-1]+\".predictions.jpeg\")\n",
    "        \n",
    "        window_x_negative, window_x_positive, window_y_negative, window_y_positive = 80, 80, 80, 80\n",
    "        if center[0]-window_x_negative < 0:\n",
    "            window_x_negative = center[0]\n",
    "            window_x_positive = 80+(80-center[0])\n",
    "        if center[1]-window_y_negative < 0:\n",
    "            window_y_negative = center[1]\n",
    "            window_y_positive = 80+(80-center[1])\n",
    "\n",
    "        if center[0]+window_x_positive > img.shape[1]:\n",
    "            window_x_negative = 80+(80-(img.shape[1]-center[0]))\n",
    "            window_x_positive = (img.shape[1]-center[0])\n",
    "        if center[1]+window_y_positive > img.shape[0]:\n",
    "            window_y_negative = 80+(80-(img.shape[0]-center[1]))\n",
    "            window_y_positive = (img.shape[0]-center[1])\n",
    "            \n",
    "        cropped_image = img[center[1]-window_y_negative:center[1]+window_y_positive, center[0]-window_x_negative:center[0]+window_x_positive]\n",
    "        \n",
    "        cv2.imwrite(\"datasets/Weizmann/skeletons_croppeds/walk/\"+name_of_actor+\"/\"+frame.replace('\\\\', '/').split('/')[-1], cropped_image)\n",
    "        "
   ]
  },
  {
   "cell_type": "code",
   "execution_count": 43,
   "id": "ad5bb488",
   "metadata": {},
   "outputs": [],
   "source": [
    "# Access all PNG files in directory\n",
    "# allfiles=os.listdir(os.getcwd())\n",
    "# imlist=[filename for filename in allfiles if  filename[-4:] in [\".png\",\".PNG\"]]\n",
    "\n",
    "# Assuming all images are the same size, get dimensions of first image\n",
    "w,h=Image.open(images[0]).size\n",
    "N=len(images)\n",
    "\n",
    "# Create a numpy array of floats to store the average (assume RGB images)\n",
    "arr=np.zeros((h,w,3),np.float)\n",
    "\n",
    "# Build up average pixel intensities, casting each image as an array of floats\n",
    "for im in images:\n",
    "    imarr=np.array(Image.open(im),dtype=np.float)\n",
    "    arr=arr+imarr/N\n",
    "\n",
    "# Round values in array and cast as 8-bit integer\n",
    "arr=np.array(np.round(arr),dtype=np.uint8)\n",
    "\n",
    "# Generate, save and preview final image\n",
    "out=Image.fromarray(arr,mode=\"RGB\")\n",
    "out.save(\"Average.png\")\n",
    "out.show()"
   ]
  },
  {
   "cell_type": "code",
   "execution_count": null,
   "id": "8a011d43",
   "metadata": {},
   "outputs": [],
   "source": []
  }
 ],
 "metadata": {
  "kernelspec": {
   "display_name": "Harbop",
   "language": "python",
   "name": "harbop"
  },
  "language_info": {
   "codemirror_mode": {
    "name": "ipython",
    "version": 3
   },
   "file_extension": ".py",
   "mimetype": "text/x-python",
   "name": "python",
   "nbconvert_exporter": "python",
   "pygments_lexer": "ipython3",
   "version": "3.7.10"
  }
 },
 "nbformat": 4,
 "nbformat_minor": 5
}
